{
 "cells": [
  {
   "cell_type": "code",
   "execution_count": 121,
   "id": "41833a69",
   "metadata": {},
   "outputs": [],
   "source": [
    "# imports\n",
    "import pandas as pd\n",
    "import matplotlib.pyplot as plt\n",
    "import seaborn as sns\n",
    "import numpy as np"
   ]
  },
  {
   "cell_type": "code",
   "execution_count": 122,
   "id": "8f0cf3da",
   "metadata": {},
   "outputs": [],
   "source": [
    "# load in datasets \n",
    "arctic_greenland = pd.read_csv('Arctic_Ocean__Greenland_sea_dataset.csv', encoding='latin1')\n",
    "indian = pd.read_csv('Indian_Ocean_Dataset.csv', encoding='latin1')\n",
    "mediterranean = pd.read_csv('Mediterranean_Sea_Dataset.csv', encoding='latin1')\n",
    "north_atlantic = pd.read_csv('North_Atlantic_Dataset.csv', encoding='latin1')\n",
    "north_pacific = pd.read_csv('North_Pacific_Ocean_Dataset.csv', encoding='latin1')\n",
    "south_atlantic = pd.read_csv('South_Atlantic_Dataset.csv', encoding='latin1')\n",
    "south_pacific = pd.read_csv('South_Pacific_Dataset.csv', encoding='latin1')\n",
    "southern = pd.read_csv('Southern_Ocean_dataset.csv', encoding='latin1')"
   ]
  },
  {
   "cell_type": "code",
   "execution_count": 123,
   "id": "bf711df5",
   "metadata": {},
   "outputs": [],
   "source": [
    "# combine the oceans\n",
    "atlantic = pd.concat([north_atlantic, south_atlantic])\n",
    "pacific = pd.concat([north_pacific, south_pacific])\n",
    "#world_oceans = pd.concat([arctic_greenland, indian, mediterranean, north_atlantic, north_pacific, south_atlantic, south_pacific, southern])"
   ]
  },
  {
   "cell_type": "code",
   "execution_count": 124,
   "id": "ead35137",
   "metadata": {},
   "outputs": [
    {
     "name": "stdout",
     "output_type": "stream",
     "text": [
      "11127\n"
     ]
    }
   ],
   "source": [
    "all_oceans = [arctic_greenland, indian, mediterranean, atlantic, pacific, southern]\n",
    "\n",
    "# counts total points\n",
    "rows = 0\n",
    "for ocean in all_oceans:\n",
    "    rows = rows + len(ocean)\n",
    "    \n",
    "print(rows)"
   ]
  },
  {
   "cell_type": "code",
   "execution_count": 125,
   "id": "13dfcf6e",
   "metadata": {},
   "outputs": [],
   "source": [
    "# groups by ocean & date, filters out unnecessary columns, drops null values\n",
    "world = pd.concat(all_oceans)\n",
    "world = world.filter(['Oceans', 'Microplastics Measurement (density)', 'Unit', \n",
    "                      'Concentration Class', 'Latitude', 'Longitude', 'Date'])\n",
    "world['Date'] = pd.to_datetime(world['Date'])\n",
    "world = world.sort_values(by=['Oceans', 'Date'])\n",
    "world = world.dropna()\n",
    "world = world.reset_index(drop=True)"
   ]
  },
  {
   "cell_type": "code",
   "execution_count": 126,
   "id": "6f19f994",
   "metadata": {},
   "outputs": [],
   "source": [
    "# export to csv\n",
    "world.to_csv('world_oceans.csv', index=True)"
   ]
  },
  {
   "cell_type": "code",
   "execution_count": 118,
   "id": "2d52a6d4",
   "metadata": {
    "scrolled": true
   },
   "outputs": [
    {
     "name": "stdout",
     "output_type": "stream",
     "text": [
      "Pacific Ocean     366\n",
      "Indian Ocean        5\n",
      "Atlantic Ocean      3\n",
      "Name: Oceans, dtype: int64\n",
      "Index(['Microplastics Measurement (density)', 'Oceans'], dtype='object')\n"
     ]
    }
   ],
   "source": [
    "# Checks the NaN values, which appear in Microplastics Measurement (Don't RUN)\n",
    "world1 = pd.concat(all_oceans)\n",
    "world1 = world1.filter(['Oceans', 'Microplastics Measurement (density)', 'Unit', \n",
    "                        'Concentration Class', 'Latitude', 'Longitude', 'Date'])\n",
    "rows_with_nan = world1[world1.isna().any(axis=1)]\n",
    "rows_with_nan = rows_with_nan.filter(['Microplastics Measurement (density)', 'Oceans', 'Beach Location', 'State', 'Country',\n",
    "                                     'Sampling Method'])\n",
    "value_counts = rows_with_nan['Oceans'].value_counts()\n",
    "print(value_counts)\n",
    "\n",
    "columns_with_nan = rows_with_nan.columns[rows_with_nan.isna().any()]\n",
    "print(columns_with_nan)\n",
    "# world = world.sort_values(by='Oceans')\n",
    "# print(world)"
   ]
  }
 ],
 "metadata": {
  "kernelspec": {
   "display_name": "Python 3 (ipykernel)",
   "language": "python",
   "name": "python3"
  },
  "language_info": {
   "codemirror_mode": {
    "name": "ipython",
    "version": 3
   },
   "file_extension": ".py",
   "mimetype": "text/x-python",
   "name": "python",
   "nbconvert_exporter": "python",
   "pygments_lexer": "ipython3",
   "version": "3.8.13"
  }
 },
 "nbformat": 4,
 "nbformat_minor": 5
}
